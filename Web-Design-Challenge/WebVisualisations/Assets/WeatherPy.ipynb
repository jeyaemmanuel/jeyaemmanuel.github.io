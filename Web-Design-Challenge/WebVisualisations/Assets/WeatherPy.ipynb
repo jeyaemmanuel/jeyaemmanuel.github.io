{
 "cells": [
  {
   "cell_type": "markdown",
   "metadata": {},
   "source": [
    "# WeatherPy\n",
    "----\n",
    "\n",
    "#### Note\n",
    "* Instructions have been included for each segment. You do not have to follow them exactly, but they are included to help you think through the steps."
   ]
  },
  {
   "cell_type": "code",
   "execution_count": 1,
   "metadata": {
    "scrolled": true
   },
   "outputs": [],
   "source": [
    "import requests\n",
    "import datetime\n",
    "import time\n",
    "import random\n",
    "import json\n",
    "import matplotlib.pyplot as plt\n",
    "import numpy as np\n",
    "import pandas as pd\n",
    "from scipy.stats import linregress\n",
    "\n",
    "from api_keys import weather_api_key\n",
    "from pprint import pprint\n"
   ]
  },
  {
   "cell_type": "markdown",
   "metadata": {},
   "source": [
    "## Generate Cities List"
   ]
  },
  {
   "cell_type": "code",
   "execution_count": 2,
   "metadata": {},
   "outputs": [
    {
     "data": {
      "text/plain": [
       "643"
      ]
     },
     "execution_count": 2,
     "metadata": {},
     "output_type": "execute_result"
    }
   ],
   "source": [
    "from citipy import citipy\n",
    "cities = []\n",
    "while len(cities) < 643:\n",
    "    x = (random.choice(range(-90,90)))\n",
    "    y = (random.choice(range(-180,180)))\n",
    "    city = citipy.nearest_city(x,y).city_name\n",
    "    if city not in cities:\n",
    "        cities.append(city)\n",
    "len(cities)"
   ]
  },
  {
   "cell_type": "markdown",
   "metadata": {},
   "source": [
    "### Perform API Calls\n",
    "* Perform a weather check on each city using a series of successive API calls.\n",
    "* Include a print log of each city as it'sbeing processed (with the city number and city name).\n"
   ]
  },
  {
   "cell_type": "code",
   "execution_count": 3,
   "metadata": {
    "scrolled": true
   },
   "outputs": [],
   "source": [
    "url = \"http://api.openweathermap.org/data/2.5/weather?\"\n",
    "unit = \"imperial\"\n",
    "weather_url = f\"{url}&appid={weather_api_key}&units={unit}&q=\"\n"
   ]
  },
  {
   "cell_type": "code",
   "execution_count": 4,
   "metadata": {},
   "outputs": [
    {
     "name": "stdout",
     "output_type": "stream",
     "text": [
      "Beginning Data Retrieval\n",
      "------------------------\n",
      "Processing Record 1 of Set 1 | rikitea\n",
      "Processing Record 2 of Set 1 | avarua\n",
      "Processing Record 3 of Set 1 | victoria\n",
      "Processing Record 4 of Set 1 | urucara\n",
      "Processing Record 5 of Set 1 | bosconia\n",
      "Processing Record 6 of Set 1 | hobart\n",
      "Processing Record 7 of Set 1 | vaini\n",
      "Processing Record 8 of Set 1 | albany\n",
      "Processing Record 9 of Set 1 | ushuaia\n",
      "City not found: Skipping...\n",
      "City not found: Skipping...\n",
      "Processing Record 10 of Set 1 | carnarvon\n",
      "Processing Record 11 of Set 1 | los llanos de aridane\n",
      "Processing Record 12 of Set 1 | hithadhoo\n",
      "Processing Record 13 of Set 1 | srednekolymsk\n",
      "Processing Record 14 of Set 1 | ponta do sol\n",
      "Processing Record 15 of Set 1 | bredasdorp\n",
      "Processing Record 16 of Set 1 | la ronge\n",
      "Processing Record 17 of Set 1 | mataura\n",
      "Processing Record 18 of Set 1 | singapore\n",
      "Processing Record 19 of Set 1 | guerrero negro\n",
      "Processing Record 20 of Set 1 | mehamn\n",
      "Processing Record 21 of Set 1 | comodoro rivadavia\n",
      "Processing Record 22 of Set 1 | takoradi\n",
      "Processing Record 23 of Set 1 | atar\n",
      "Processing Record 24 of Set 1 | rancho palos verdes\n",
      "Processing Record 25 of Set 1 | carballo\n",
      "Processing Record 26 of Set 1 | punta arenas\n",
      "Processing Record 27 of Set 1 | panguna\n",
      "Processing Record 28 of Set 1 | bluff\n",
      "Processing Record 29 of Set 1 | nhulunbuy\n",
      "Processing Record 30 of Set 1 | esperance\n",
      "Processing Record 31 of Set 1 | ribeira grande\n",
      "Processing Record 32 of Set 1 | kodiak\n",
      "Processing Record 33 of Set 1 | do gonbadan\n",
      "Processing Record 34 of Set 1 | qaanaaq\n",
      "Processing Record 35 of Set 1 | atuona\n",
      "Processing Record 36 of Set 1 | olafsvik\n",
      "Processing Record 37 of Set 1 | coihaique\n",
      "Processing Record 38 of Set 1 | yertsevo\n",
      "Processing Record 39 of Set 1 | longyearbyen\n",
      "Processing Record 40 of Set 1 | butaritari\n",
      "Processing Record 41 of Set 1 | cidreira\n",
      "Processing Record 42 of Set 1 | sitka\n",
      "Processing Record 43 of Set 1 | kenai\n",
      "City not found: Skipping...\n",
      "City not found: Skipping...\n",
      "Processing Record 44 of Set 1 | pervomayskoye\n",
      "Processing Record 45 of Set 1 | tilichiki\n",
      "Processing Record 46 of Set 1 | mar del plata\n",
      "Processing Record 47 of Set 1 | new norfolk\n",
      "Processing Record 48 of Set 1 | labrea\n",
      "Processing Record 49 of Set 1 | touros\n",
      "Processing Record 1 of Set 2 | tuatapere\n",
      "Processing Record 2 of Set 2 | bakhmach\n",
      "Processing Record 3 of Set 2 | honiara\n",
      "Processing Record 4 of Set 2 | bajil\n",
      "Processing Record 5 of Set 2 | airai\n",
      "Processing Record 6 of Set 2 | beringovskiy\n",
      "Processing Record 7 of Set 2 | hilo\n",
      "Processing Record 8 of Set 2 | liverpool\n",
      "Processing Record 9 of Set 2 | puerto ayora\n",
      "Processing Record 10 of Set 2 | saint-philippe\n",
      "Processing Record 11 of Set 2 | hermanus\n",
      "Processing Record 12 of Set 2 | kavieng\n",
      "Processing Record 13 of Set 2 | port lincoln\n",
      "City not found: Skipping...\n",
      "Processing Record 14 of Set 2 | natal\n",
      "Processing Record 15 of Set 2 | georgetown\n",
      "City not found: Skipping...\n",
      "City not found: Skipping...\n",
      "Processing Record 16 of Set 2 | corinth\n",
      "Processing Record 17 of Set 2 | tasiilaq\n",
      "Processing Record 18 of Set 2 | pacific grove\n",
      "Processing Record 19 of Set 2 | padang\n",
      "Processing Record 20 of Set 2 | prince rupert\n",
      "City not found: Skipping...\n",
      "Processing Record 21 of Set 2 | talcahuano\n",
      "Processing Record 22 of Set 2 | sol-iletsk\n",
      "Processing Record 23 of Set 2 | severo-kurilsk\n",
      "Processing Record 24 of Set 2 | port alfred\n",
      "Processing Record 25 of Set 2 | castro\n",
      "Processing Record 26 of Set 2 | cabo san lucas\n",
      "Processing Record 27 of Set 2 | kumluca\n",
      "Processing Record 28 of Set 2 | brasilia\n",
      "Processing Record 29 of Set 2 | pevek\n",
      "Processing Record 30 of Set 2 | sola\n",
      "Processing Record 31 of Set 2 | lebu\n",
      "Processing Record 32 of Set 2 | masuguru\n",
      "Processing Record 33 of Set 2 | jamestown\n",
      "Processing Record 34 of Set 2 | sistranda\n",
      "Processing Record 35 of Set 2 | saint george\n",
      "Processing Record 36 of Set 2 | ballina\n",
      "Processing Record 37 of Set 2 | souillac\n",
      "Processing Record 38 of Set 2 | alofi\n",
      "Processing Record 39 of Set 2 | marzuq\n",
      "Processing Record 40 of Set 2 | port moresby\n",
      "Processing Record 41 of Set 2 | east london\n",
      "City not found: Skipping...\n",
      "Processing Record 42 of Set 2 | husavik\n",
      "Processing Record 43 of Set 2 | busselton\n",
      "Processing Record 44 of Set 2 | luderitz\n",
      "Processing Record 45 of Set 2 | port elizabeth\n",
      "Processing Record 46 of Set 2 | keroka\n",
      "Processing Record 47 of Set 2 | nishihara\n",
      "Processing Record 48 of Set 2 | colesberg\n",
      "Processing Record 49 of Set 2 | upernavik\n",
      "Processing Record 1 of Set 3 | tuktoyaktuk\n",
      "Processing Record 2 of Set 3 | palasa\n",
      "Processing Record 3 of Set 3 | olovyannaya\n",
      "Processing Record 4 of Set 3 | kokoda\n",
      "Processing Record 5 of Set 3 | korla\n",
      "Processing Record 6 of Set 3 | san patricio\n",
      "Processing Record 7 of Set 3 | xapuri\n",
      "Processing Record 8 of Set 3 | bethel\n",
      "Processing Record 9 of Set 3 | geraldton\n",
      "Processing Record 10 of Set 3 | taltal\n",
      "Processing Record 11 of Set 3 | sainte-maxime\n",
      "Processing Record 12 of Set 3 | disna\n",
      "Processing Record 13 of Set 3 | melfort\n",
      "Processing Record 14 of Set 3 | pisco\n",
      "Processing Record 15 of Set 3 | kapaa\n",
      "Processing Record 16 of Set 3 | klaksvik\n",
      "Processing Record 17 of Set 3 | hasaki\n",
      "Processing Record 18 of Set 3 | dikson\n",
      "Processing Record 19 of Set 3 | anloga\n",
      "Processing Record 20 of Set 3 | bandarbeyla\n",
      "Processing Record 21 of Set 3 | guaymas\n",
      "City not found: Skipping...\n",
      "Processing Record 22 of Set 3 | isangel\n",
      "Processing Record 23 of Set 3 | dandong\n",
      "Processing Record 24 of Set 3 | tete\n",
      "Processing Record 25 of Set 3 | chenghai\n",
      "Processing Record 26 of Set 3 | faanui\n",
      "Processing Record 27 of Set 3 | okhotsk\n",
      "Processing Record 28 of Set 3 | barrow\n",
      "Processing Record 29 of Set 3 | myre\n",
      "Processing Record 30 of Set 3 | samarai\n",
      "Processing Record 31 of Set 3 | acapulco\n",
      "Processing Record 32 of Set 3 | havre-saint-pierre\n",
      "City not found: Skipping...\n",
      "Processing Record 33 of Set 3 | vila velha\n",
      "Processing Record 34 of Set 3 | thompson\n",
      "Processing Record 35 of Set 3 | maniitsoq\n",
      "Processing Record 36 of Set 3 | guadalupe y calvo\n",
      "Processing Record 37 of Set 3 | san policarpo\n",
      "Processing Record 38 of Set 3 | mahebourg\n",
      "Processing Record 39 of Set 3 | kunigal\n",
      "Processing Record 40 of Set 3 | arraial do cabo\n",
      "Processing Record 41 of Set 3 | tabasco\n",
      "Processing Record 42 of Set 3 | khatanga\n",
      "Processing Record 43 of Set 3 | lompoc\n",
      "Processing Record 44 of Set 3 | soyo\n",
      "Processing Record 45 of Set 3 | porbandar\n",
      "Processing Record 46 of Set 3 | rawah\n",
      "Processing Record 47 of Set 3 | cape town\n",
      "Processing Record 48 of Set 3 | mali\n",
      "Processing Record 49 of Set 3 | khuchni\n",
      "Processing Record 1 of Set 4 | faya\n",
      "Processing Record 2 of Set 4 | dali\n",
      "Processing Record 3 of Set 4 | aquiraz\n",
      "City not found: Skipping...\n",
      "Processing Record 4 of Set 4 | lasa\n",
      "Processing Record 5 of Set 4 | manokwari\n",
      "Processing Record 6 of Set 4 | bubaque\n",
      "Processing Record 7 of Set 4 | port hardy\n",
      "Processing Record 8 of Set 4 | ambovombe\n",
      "Processing Record 9 of Set 4 | denizli\n",
      "City not found: Skipping...\n",
      "City not found: Skipping...\n",
      "Processing Record 10 of Set 4 | majene\n",
      "Processing Record 11 of Set 4 | provideniya\n",
      "Processing Record 12 of Set 4 | nabire\n",
      "City not found: Skipping...\n",
      "Processing Record 13 of Set 4 | dunedin\n",
      "City not found: Skipping...\n",
      "Processing Record 14 of Set 4 | codrington\n",
      "Processing Record 15 of Set 4 | urusha\n",
      "Processing Record 16 of Set 4 | shache\n",
      "Processing Record 17 of Set 4 | inta\n",
      "Processing Record 18 of Set 4 | aparecida do taboado\n",
      "Processing Record 19 of Set 4 | rehoboth\n",
      "Processing Record 20 of Set 4 | mount isa\n",
      "Processing Record 21 of Set 4 | tiksi\n",
      "Processing Record 22 of Set 4 | rundu\n",
      "Processing Record 23 of Set 4 | mombetsu\n",
      "Processing Record 24 of Set 4 | komsomolskiy\n",
      "City not found: Skipping...\n",
      "Processing Record 25 of Set 4 | kalemie\n",
      "Processing Record 26 of Set 4 | marawi\n",
      "Processing Record 27 of Set 4 | cherskiy\n",
      "Processing Record 28 of Set 4 | jacala\n",
      "Processing Record 29 of Set 4 | zhigansk\n",
      "Processing Record 30 of Set 4 | nantucket\n",
      "Processing Record 31 of Set 4 | yellowknife\n",
      "Processing Record 32 of Set 4 | nyurba\n",
      "Processing Record 33 of Set 4 | tagusao\n",
      "Processing Record 34 of Set 4 | cabinda\n",
      "Processing Record 35 of Set 4 | lazaro cardenas\n",
      "City not found: Skipping...\n",
      "Processing Record 36 of Set 4 | jambi\n",
      "Processing Record 37 of Set 4 | chinsali\n",
      "Processing Record 38 of Set 4 | svetlogorsk\n",
      "Processing Record 39 of Set 4 | curvelo\n"
     ]
    },
    {
     "name": "stdout",
     "output_type": "stream",
     "text": [
      "Processing Record 40 of Set 4 | saldanha\n",
      "Processing Record 41 of Set 4 | caravelas\n",
      "Processing Record 42 of Set 4 | itoman\n",
      "Processing Record 43 of Set 4 | nikolskoye\n",
      "Processing Record 44 of Set 4 | morehead\n",
      "Processing Record 45 of Set 4 | sal rei\n",
      "City not found: Skipping...\n",
      "Processing Record 46 of Set 4 | saint-joseph\n",
      "Processing Record 47 of Set 4 | almaznyy\n",
      "Processing Record 48 of Set 4 | kargopol\n",
      "Processing Record 49 of Set 4 | plainview\n",
      "Processing Record 1 of Set 5 | kaitangata\n",
      "Processing Record 2 of Set 5 | ahuimanu\n",
      "Processing Record 3 of Set 5 | qaqortoq\n",
      "Processing Record 4 of Set 5 | novopokrovka\n",
      "Processing Record 5 of Set 5 | vestmannaeyjar\n",
      "Processing Record 6 of Set 5 | jalu\n",
      "City not found: Skipping...\n",
      "Processing Record 7 of Set 5 | mantua\n",
      "Processing Record 8 of Set 5 | kemin\n",
      "Processing Record 9 of Set 5 | bathsheba\n",
      "Processing Record 10 of Set 5 | maragogi\n",
      "Processing Record 11 of Set 5 | namatanai\n",
      "Processing Record 12 of Set 5 | duku\n",
      "Processing Record 13 of Set 5 | libreville\n",
      "Processing Record 14 of Set 5 | hamilton\n",
      "Processing Record 15 of Set 5 | kodinar\n",
      "Processing Record 16 of Set 5 | poya\n",
      "Processing Record 17 of Set 5 | culiacan\n",
      "Processing Record 18 of Set 5 | leirvik\n",
      "City not found: Skipping...\n",
      "Processing Record 19 of Set 5 | norman wells\n",
      "Processing Record 20 of Set 5 | west wendover\n",
      "Processing Record 21 of Set 5 | nizhniy kuranakh\n",
      "Processing Record 22 of Set 5 | bonavista\n",
      "Processing Record 23 of Set 5 | curup\n",
      "Processing Record 24 of Set 5 | erie\n",
      "Processing Record 25 of Set 5 | san jeronimo\n",
      "Processing Record 26 of Set 5 | thinadhoo\n",
      "Processing Record 27 of Set 5 | wanganui\n",
      "Processing Record 28 of Set 5 | sukhumi\n",
      "Processing Record 29 of Set 5 | terra santa\n",
      "Processing Record 30 of Set 5 | muswellbrook\n",
      "Processing Record 31 of Set 5 | darab\n",
      "Processing Record 32 of Set 5 | andenes\n",
      "Processing Record 33 of Set 5 | saskylakh\n",
      "Processing Record 34 of Set 5 | kurmanayevka\n",
      "Processing Record 35 of Set 5 | talara\n",
      "Processing Record 36 of Set 5 | tsaratanana\n",
      "Processing Record 37 of Set 5 | cairns\n",
      "Processing Record 38 of Set 5 | zaysan\n",
      "Processing Record 39 of Set 5 | paralimni\n",
      "Processing Record 40 of Set 5 | alta floresta\n",
      "Processing Record 41 of Set 5 | soure\n",
      "Processing Record 42 of Set 5 | ilulissat\n",
      "Processing Record 43 of Set 5 | staroaleyskoye\n",
      "Processing Record 44 of Set 5 | mahajanga\n",
      "Processing Record 45 of Set 5 | chokurdakh\n",
      "Processing Record 46 of Set 5 | yulara\n",
      "Processing Record 47 of Set 5 | poum\n",
      "Processing Record 48 of Set 5 | sao jose da coroa grande\n",
      "Processing Record 49 of Set 5 | sajanan\n",
      "City not found: Skipping...\n",
      "Processing Record 1 of Set 6 | aden\n",
      "Processing Record 2 of Set 6 | kerrobert\n",
      "Processing Record 3 of Set 6 | skibbereen\n",
      "City not found: Skipping...\n",
      "Processing Record 4 of Set 6 | ulladulla\n",
      "Processing Record 5 of Set 6 | mocuba\n",
      "Processing Record 6 of Set 6 | oistins\n",
      "Processing Record 7 of Set 6 | katangli\n",
      "Processing Record 8 of Set 6 | lekoni\n",
      "Processing Record 9 of Set 6 | torbay\n",
      "Processing Record 10 of Set 6 | calceta\n",
      "Processing Record 11 of Set 6 | grindavik\n",
      "Processing Record 12 of Set 6 | udachnyy\n",
      "Processing Record 13 of Set 6 | lata\n",
      "Processing Record 14 of Set 6 | bambous virieux\n",
      "City not found: Skipping...\n",
      "Processing Record 15 of Set 6 | ancud\n",
      "Processing Record 16 of Set 6 | tabuk\n",
      "City not found: Skipping...\n",
      "Processing Record 17 of Set 6 | port macquarie\n",
      "Processing Record 18 of Set 6 | zhanakorgan\n",
      "Processing Record 19 of Set 6 | santa cruz\n",
      "Processing Record 20 of Set 6 | nenjiang\n",
      "Processing Record 21 of Set 6 | yar-sale\n",
      "Processing Record 22 of Set 6 | sisimiut\n",
      "Processing Record 23 of Set 6 | grootfontein\n",
      "Processing Record 24 of Set 6 | kruisfontein\n",
      "Processing Record 25 of Set 6 | abu dhabi\n",
      "Processing Record 26 of Set 6 | severnoye\n",
      "Processing Record 27 of Set 6 | aklavik\n",
      "City not found: Skipping...\n",
      "City not found: Skipping...\n",
      "Processing Record 28 of Set 6 | meyzieu\n",
      "City not found: Skipping...\n",
      "Processing Record 29 of Set 6 | puerto del rosario\n",
      "Processing Record 30 of Set 6 | iralaya\n",
      "City not found: Skipping...\n",
      "Processing Record 31 of Set 6 | beloha\n",
      "Processing Record 32 of Set 6 | santa rosa\n",
      "City not found: Skipping...\n",
      "Processing Record 33 of Set 6 | tazovskiy\n",
      "Processing Record 34 of Set 6 | narsaq\n",
      "Processing Record 35 of Set 6 | crixas\n",
      "Processing Record 36 of Set 6 | qui nhon\n",
      "Processing Record 37 of Set 6 | gat\n",
      "Processing Record 38 of Set 6 | stepankovice\n",
      "City not found: Skipping...\n",
      "Processing Record 39 of Set 6 | ixtapa\n",
      "Processing Record 40 of Set 6 | mitzic\n",
      "Processing Record 41 of Set 6 | ndele\n",
      "Processing Record 42 of Set 6 | celestun\n",
      "Processing Record 43 of Set 6 | tshane\n",
      "Processing Record 44 of Set 6 | taoudenni\n",
      "Processing Record 45 of Set 6 | lavrentiya\n",
      "Processing Record 46 of Set 6 | mbanza-ngungu\n",
      "Processing Record 47 of Set 6 | guadalajara\n",
      "Processing Record 48 of Set 6 | vao\n",
      "City not found: Skipping...\n",
      "Processing Record 49 of Set 6 | aranos\n",
      "Processing Record 1 of Set 7 | saint-pierre\n",
      "Processing Record 2 of Set 7 | hurghada\n",
      "Processing Record 3 of Set 7 | brae\n",
      "Processing Record 4 of Set 7 | tourlaville\n",
      "Processing Record 5 of Set 7 | ziarat\n",
      "Processing Record 6 of Set 7 | salalah\n",
      "Processing Record 7 of Set 7 | bengkulu\n",
      "Processing Record 8 of Set 7 | moctezuma\n",
      "Processing Record 9 of Set 7 | verkhnyaya inta\n",
      "Processing Record 10 of Set 7 | ostrovnoy\n",
      "Processing Record 11 of Set 7 | waingapu\n",
      "City not found: Skipping...\n",
      "Processing Record 12 of Set 7 | shimoda\n",
      "Processing Record 13 of Set 7 | thunder bay\n",
      "Processing Record 14 of Set 7 | tomatlan\n",
      "Processing Record 15 of Set 7 | manggar\n",
      "Processing Record 16 of Set 7 | ampanihy\n",
      "Processing Record 17 of Set 7 | panshi\n",
      "Processing Record 18 of Set 7 | paka\n",
      "Processing Record 19 of Set 7 | khanpur\n",
      "Processing Record 20 of Set 7 | bairiki\n",
      "Processing Record 21 of Set 7 | evensk\n",
      "Processing Record 22 of Set 7 | manono\n",
      "Processing Record 23 of Set 7 | madingou\n",
      "Processing Record 24 of Set 7 | malacacheta\n",
      "Processing Record 25 of Set 7 | gobabis\n",
      "Processing Record 26 of Set 7 | rongcheng\n",
      "City not found: Skipping...\n",
      "Processing Record 27 of Set 7 | san jose\n",
      "Processing Record 28 of Set 7 | siedlce\n",
      "Processing Record 29 of Set 7 | mul\n",
      "Processing Record 30 of Set 7 | moerai\n",
      "Processing Record 31 of Set 7 | trelew\n",
      "Processing Record 32 of Set 7 | quebo\n",
      "City not found: Skipping...\n",
      "Processing Record 33 of Set 7 | kargala\n",
      "Processing Record 34 of Set 7 | mammaste\n",
      "Processing Record 35 of Set 7 | fortuna\n",
      "Processing Record 36 of Set 7 | banda aceh\n",
      "Processing Record 37 of Set 7 | klyuchi\n",
      "Processing Record 38 of Set 7 | la cruz\n",
      "Processing Record 39 of Set 7 | berlevag\n",
      "Processing Record 40 of Set 7 | tarsus\n",
      "Processing Record 41 of Set 7 | blagoyevo\n",
      "Processing Record 42 of Set 7 | zamora\n",
      "Processing Record 43 of Set 7 | sur\n",
      "Processing Record 44 of Set 7 | coquimbo\n",
      "Processing Record 45 of Set 7 | vanavara\n",
      "Processing Record 46 of Set 7 | christchurch\n",
      "Processing Record 47 of Set 7 | ahipara\n",
      "Processing Record 48 of Set 7 | constitucion\n",
      "Processing Record 49 of Set 7 | monclova\n",
      "Processing Record 1 of Set 8 | mogadishu\n",
      "Processing Record 2 of Set 8 | loa janan\n",
      "Processing Record 3 of Set 8 | hambantota\n",
      "City not found: Skipping...\n",
      "Processing Record 4 of Set 8 | harper\n",
      "Processing Record 5 of Set 8 | verkhoyansk\n",
      "Processing Record 6 of Set 8 | qinhuangdao\n",
      "City not found: Skipping...\n",
      "Processing Record 7 of Set 8 | araouane\n",
      "Processing Record 8 of Set 8 | cockburn town\n",
      "Processing Record 9 of Set 8 | naze\n",
      "City not found: Skipping...\n",
      "Processing Record 10 of Set 8 | tocopilla\n",
      "Processing Record 11 of Set 8 | lishui\n",
      "Processing Record 12 of Set 8 | msanga\n",
      "City not found: Skipping...\n",
      "Processing Record 13 of Set 8 | lodja\n",
      "Processing Record 14 of Set 8 | nadym\n",
      "Processing Record 15 of Set 8 | zabol\n",
      "Processing Record 16 of Set 8 | grand gaube\n",
      "Processing Record 17 of Set 8 | beihai\n",
      "Processing Record 18 of Set 8 | arlit\n",
      "Processing Record 19 of Set 8 | mount gambier\n",
      "Processing Record 20 of Set 8 | guarapari\n",
      "Processing Record 21 of Set 8 | laguna\n",
      "Processing Record 22 of Set 8 | buala\n",
      "Processing Record 23 of Set 8 | sobolevo\n",
      "Processing Record 24 of Set 8 | moose factory\n",
      "Processing Record 25 of Set 8 | clyde river\n",
      "Processing Record 26 of Set 8 | omboue\n",
      "Processing Record 27 of Set 8 | kirakira\n",
      "Processing Record 28 of Set 8 | anadyr\n",
      "Processing Record 29 of Set 8 | cam ranh\n"
     ]
    },
    {
     "name": "stdout",
     "output_type": "stream",
     "text": [
      "Processing Record 30 of Set 8 | viedma\n",
      "Processing Record 31 of Set 8 | capoterra\n",
      "Processing Record 32 of Set 8 | saint-georges\n",
      "Processing Record 33 of Set 8 | nanortalik\n",
      "Processing Record 34 of Set 8 | mau\n",
      "Processing Record 35 of Set 8 | si bun ruang\n",
      "Processing Record 36 of Set 8 | deputatskiy\n",
      "Processing Record 37 of Set 8 | rio gallegos\n",
      "Processing Record 38 of Set 8 | hofn\n",
      "Processing Record 39 of Set 8 | synya\n",
      "City not found: Skipping...\n",
      "Processing Record 40 of Set 8 | iskateley\n",
      "Processing Record 41 of Set 8 | chara\n",
      "Processing Record 42 of Set 8 | avera\n",
      "Processing Record 43 of Set 8 | san cristobal\n",
      "Processing Record 44 of Set 8 | neuchatel\n",
      "Processing Record 45 of Set 8 | fairbanks\n",
      "Processing Record 46 of Set 8 | kahului\n",
      "Processing Record 47 of Set 8 | shizunai\n",
      "Processing Record 48 of Set 8 | acayucan\n",
      "Processing Record 49 of Set 8 | tuban\n",
      "Processing Record 1 of Set 9 | zhuhai\n",
      "Processing Record 2 of Set 9 | pemangkat\n",
      "Processing Record 3 of Set 9 | moron\n",
      "City not found: Skipping...\n",
      "Processing Record 4 of Set 9 | olden\n",
      "Processing Record 5 of Set 9 | oum hadjer\n",
      "Processing Record 6 of Set 9 | fukue\n",
      "Processing Record 7 of Set 9 | shingu\n",
      "Processing Record 8 of Set 9 | porto belo\n",
      "Processing Record 9 of Set 9 | orange walk\n",
      "Processing Record 10 of Set 9 | khorramshahr\n",
      "City not found: Skipping...\n",
      "Processing Record 11 of Set 9 | nome\n",
      "Processing Record 12 of Set 9 | dhidhdhoo\n",
      "Processing Record 13 of Set 9 | lake havasu city\n",
      "Processing Record 14 of Set 9 | north bend\n",
      "Processing Record 15 of Set 9 | kokstad\n",
      "City not found: Skipping...\n",
      "Processing Record 16 of Set 9 | finnsnes\n",
      "Processing Record 17 of Set 9 | buchanan\n",
      "Processing Record 18 of Set 9 | seligenstadt\n",
      "Processing Record 19 of Set 9 | namibe\n",
      "Processing Record 20 of Set 9 | nortelandia\n",
      "Processing Record 21 of Set 9 | valparaiso\n",
      "City not found: Skipping...\n",
      "Processing Record 22 of Set 9 | tateyama\n",
      "Processing Record 23 of Set 9 | san-pedro\n",
      "Processing Record 24 of Set 9 | brusyanskiy\n",
      "Processing Record 25 of Set 9 | flinders\n",
      "Processing Record 26 of Set 9 | ambilobe\n",
      "Processing Record 27 of Set 9 | riyadh\n",
      "Processing Record 28 of Set 9 | ron phibun\n",
      "Processing Record 29 of Set 9 | altamont\n",
      "City not found: Skipping...\n",
      "Processing Record 30 of Set 9 | real\n",
      "Processing Record 31 of Set 9 | lososina\n",
      "Processing Record 32 of Set 9 | harer\n",
      "Processing Record 33 of Set 9 | quatre cocos\n",
      "Processing Record 34 of Set 9 | vitim\n",
      "Processing Record 35 of Set 9 | vredendal\n",
      "Processing Record 36 of Set 9 | nikki\n",
      "Processing Record 37 of Set 9 | praia da vitoria\n",
      "Processing Record 38 of Set 9 | astoria\n",
      "Processing Record 39 of Set 9 | estelle\n",
      "Processing Record 40 of Set 9 | nouadhibou\n",
      "Processing Record 41 of Set 9 | kupang\n",
      "Processing Record 42 of Set 9 | tual\n",
      "City not found: Skipping...\n",
      "Processing Record 43 of Set 9 | sembe\n",
      "Processing Record 44 of Set 9 | abu kamal\n",
      "City not found: Skipping...\n",
      "Processing Record 45 of Set 9 | coruripe\n",
      "Processing Record 46 of Set 9 | palana\n",
      "Processing Record 47 of Set 9 | manacapuru\n",
      "Processing Record 48 of Set 9 | netrakona\n",
      "Processing Record 49 of Set 9 | necochea\n",
      "Processing Record 1 of Set 10 | nevelsk\n",
      "Processing Record 2 of Set 10 | farafangana\n",
      "Processing Record 3 of Set 10 | sorland\n",
      "Processing Record 4 of Set 10 | contamana\n",
      "Processing Record 5 of Set 10 | caruray\n",
      "Processing Record 6 of Set 10 | lagoa\n",
      "Processing Record 7 of Set 10 | west allis\n",
      "Processing Record 8 of Set 10 | karatau\n",
      "Processing Record 9 of Set 10 | ola\n",
      "Processing Record 10 of Set 10 | mgandu\n",
      "Processing Record 11 of Set 10 | ayagoz\n",
      "Processing Record 12 of Set 10 | marovoay\n",
      "Processing Record 13 of Set 10 | bihoro\n",
      "Processing Record 14 of Set 10 | punta gorda\n",
      "Processing Record 15 of Set 10 | jacobina\n",
      "Processing Record 16 of Set 10 | zyryanovsk\n",
      "Processing Record 17 of Set 10 | camacha\n",
      "Processing Record 18 of Set 10 | talnakh\n",
      "Processing Record 19 of Set 10 | port blair\n",
      "Processing Record 20 of Set 10 | lucapa\n",
      "Processing Record 21 of Set 10 | ilhabela\n",
      "Processing Record 22 of Set 10 | shieli\n",
      "Processing Record 23 of Set 10 | boende\n",
      "Processing Record 24 of Set 10 | rawson\n",
      "Processing Record 25 of Set 10 | te anau\n",
      "Processing Record 26 of Set 10 | douentza\n",
      "Processing Record 27 of Set 10 | kipushi\n",
      "Processing Record 28 of Set 10 | gazanjyk\n",
      "City not found: Skipping...\n",
      "Processing Record 29 of Set 10 | jaciara\n",
      "Processing Record 30 of Set 10 | shirokiy\n",
      "Processing Record 31 of Set 10 | fasa\n",
      "Processing Record 32 of Set 10 | porciuncula\n",
      "Processing Record 33 of Set 10 | ust-nera\n",
      "Processing Record 34 of Set 10 | ginda\n",
      "Processing Record 35 of Set 10 | port-cartier\n",
      "Processing Record 36 of Set 10 | tortoli\n",
      "Processing Record 37 of Set 10 | kamenka\n",
      "Processing Record 38 of Set 10 | pingshan\n",
      "Processing Record 39 of Set 10 | damara\n",
      "Processing Record 40 of Set 10 | rebrikha\n",
      "Processing Record 41 of Set 10 | isiro\n",
      "Processing Record 42 of Set 10 | goderich\n",
      "Processing Record 43 of Set 10 | sao gabriel da cachoeira\n",
      "Processing Record 44 of Set 10 | saquena\n",
      "Processing Record 45 of Set 10 | ibra\n",
      "Processing Record 46 of Set 10 | normandin\n",
      "Processing Record 47 of Set 10 | bati\n",
      "Processing Record 48 of Set 10 | sahuaripa\n",
      "Processing Record 49 of Set 10 | sechura\n",
      "Processing Record 1 of Set 11 | yerbogachen\n",
      "Processing Record 2 of Set 11 | kumla\n",
      "Processing Record 3 of Set 11 | borovskoy\n",
      "Processing Record 4 of Set 11 | malkara\n",
      "Processing Record 5 of Set 11 | haimen\n",
      "Processing Record 6 of Set 11 | keti bandar\n",
      "Processing Record 7 of Set 11 | tessalit\n",
      "Processing Record 8 of Set 11 | san isidro\n",
      "City not found: Skipping...\n",
      "Processing Record 9 of Set 11 | carros\n",
      "Processing Record 10 of Set 11 | zhicheng\n",
      "Processing Record 11 of Set 11 | lorengau\n",
      "Processing Record 12 of Set 11 | sayyan\n",
      "Processing Record 13 of Set 11 | lauria\n",
      "Processing Record 14 of Set 11 | bulawayo\n",
      "Processing Record 15 of Set 11 | bonthe\n",
      "Processing Record 16 of Set 11 | vinhedo\n",
      "Processing Record 17 of Set 11 | nanyuki\n",
      "Processing Record 18 of Set 11 | alyangula\n",
      "Processing Record 19 of Set 11 | taman\n",
      "City not found: Skipping...\n",
      "Processing Record 20 of Set 11 | unity\n",
      "Processing Record 21 of Set 11 | labuhan\n",
      "Processing Record 22 of Set 11 | una\n",
      "Processing Record 23 of Set 11 | okha\n",
      "Processing Record 24 of Set 11 | merauke\n",
      "Processing Record 25 of Set 11 | nouakchott\n",
      "Processing Record 26 of Set 11 | changli\n",
      "Processing Record 27 of Set 11 | kanker\n",
      "Processing Record 28 of Set 11 | pocone\n",
      "Processing Record 29 of Set 11 | nzerekore\n",
      "Processing Record 30 of Set 11 | weligama\n",
      "Processing Record 31 of Set 11 | yakeshi\n",
      "Processing Record 32 of Set 11 | george town\n",
      "Processing Record 33 of Set 11 | ambon\n",
      "Processing Record 34 of Set 11 | stulovo\n",
      "Processing Record 35 of Set 11 | banjar\n",
      "Processing Record 36 of Set 11 | san ramon\n",
      "Processing Record 37 of Set 11 | nurota\n",
      "Processing Record 38 of Set 11 | deer lake\n",
      "Processing Record 39 of Set 11 | wad rawah\n",
      "Processing Record 40 of Set 11 | singaparna\n",
      "Processing Record 41 of Set 11 | belaya gora\n",
      "Processing Record 42 of Set 11 | elizabeth city\n",
      "Processing Record 43 of Set 11 | veshkayma\n",
      "Processing Record 44 of Set 11 | pringsewu\n",
      "Processing Record 45 of Set 11 | tura\n",
      "Processing Record 46 of Set 11 | hearst\n",
      "City not found: Skipping...\n",
      "Processing Record 47 of Set 11 | vidim\n",
      "Processing Record 48 of Set 11 | umm lajj\n",
      "Processing Record 49 of Set 11 | doha\n",
      "Processing Record 1 of Set 12 | leningradskiy\n",
      "Processing Record 2 of Set 12 | lamar\n",
      "Processing Record 3 of Set 12 | barcelos\n",
      "City not found: Skipping...\n",
      "Processing Record 4 of Set 12 | verkhnya syrovatka\n",
      "Processing Record 5 of Set 12 | ridgecrest\n",
      "Processing Record 6 of Set 12 | regina\n",
      "Processing Record 7 of Set 12 | rovnoye\n",
      "Processing Record 8 of Set 12 | asau\n",
      "City not found: Skipping...\n",
      "Processing Record 9 of Set 12 | turbat\n",
      "Processing Record 10 of Set 12 | wamba\n",
      "Processing Record 11 of Set 12 | wenling\n",
      "Processing Record 12 of Set 12 | iqaluit\n",
      "Processing Record 13 of Set 12 | miandrivazo\n",
      "Processing Record 14 of Set 12 | hualmay\n",
      "Processing Record 15 of Set 12 | chuy\n",
      "Processing Record 16 of Set 12 | axim\n",
      "Processing Record 17 of Set 12 | itarema\n",
      "Processing Record 18 of Set 12 | cabedelo\n",
      "Processing Record 19 of Set 12 | wattegama\n",
      "Processing Record 20 of Set 12 | oyama\n",
      "Processing Record 21 of Set 12 | sungaipenuh\n",
      "Processing Record 22 of Set 12 | chany\n",
      "Processing Record 23 of Set 12 | mandalgovi\n",
      "Processing Record 24 of Set 12 | antalaha\n"
     ]
    },
    {
     "name": "stdout",
     "output_type": "stream",
     "text": [
      "Processing Record 25 of Set 12 | half moon bay\n",
      "Processing Record 26 of Set 12 | mahina\n",
      "Processing Record 27 of Set 12 | bilma\n",
      "Processing Record 28 of Set 12 | mathbaria\n",
      "Processing Record 29 of Set 12 | san juan\n",
      "Processing Record 30 of Set 12 | tashtyp\n",
      "Processing Record 31 of Set 12 | manavalakurichi\n",
      "Processing Record 32 of Set 12 | kajaani\n",
      "Processing Record 33 of Set 12 | dudinka\n",
      "Processing Record 34 of Set 12 | hit\n",
      "Processing Record 35 of Set 12 | kropachevo\n",
      "Processing Record 36 of Set 12 | charters towers\n",
      "Processing Record 37 of Set 12 | kuchera\n",
      "Processing Record 38 of Set 12 | ketchikan\n",
      "Processing Record 39 of Set 12 | yuksekova\n",
      "Processing Record 40 of Set 12 | kirkwood\n",
      "Processing Record 41 of Set 12 | rio grande\n",
      "City not found: Skipping...\n",
      "Processing Record 42 of Set 12 | saint-leu\n",
      "Processing Record 43 of Set 12 | egvekinot\n",
      "Processing Record 44 of Set 12 | kizilskoye\n",
      "Processing Record 45 of Set 12 | sao joao da barra\n",
      "Processing Record 46 of Set 12 | migori\n",
      "Processing Record 47 of Set 12 | nizhniy chir\n",
      "City not found: Skipping...\n",
      "City not found: Skipping...\n",
      "Processing Record 48 of Set 12 | petropavlovka\n",
      "-----------------------\n",
      "Data Retrieval Complete\n",
      "-----------------------\n"
     ]
    }
   ],
   "source": [
    "# Lists for results\n",
    "city_name = []\n",
    "lat = []\n",
    "lon = []\n",
    "max_temp = []\n",
    "humidity = []\n",
    "cloudiness = []\n",
    "wind_speed = []\n",
    "date = []\n",
    "country = []\n",
    "\n",
    "count = 0\n",
    "set = 1\n",
    "\n",
    "print(\"Beginning Data Retrieval\")\n",
    "print(\"------------------------\")\n",
    "\n",
    "for city in cities:\n",
    "    try:\n",
    "        response = requests.get(weather_url + city).json()\n",
    "        city_name.append(city)\n",
    "        lat.append(response[\"coord\"][\"lat\"])\n",
    "        lon.append(response[\"coord\"][\"lon\"])\n",
    "        max_temp.append(response[\"main\"][\"temp_max\"])\n",
    "        humidity.append(response[\"main\"][\"humidity\"])\n",
    "        cloudiness.append(response[\"clouds\"][\"all\"])\n",
    "        wind_speed.append(response[\"wind\"][\"speed\"])\n",
    "        date.append(response[\"dt\"])\n",
    "        country.append(response[\"sys\"][\"country\"])\n",
    "        if count > 48:\n",
    "            count = 1\n",
    "            set += 1\n",
    "        else:\n",
    "            count += 1\n",
    "        print(\"Processing Record %s of Set %s | %s\" %(count, set, city))\n",
    "    except:\n",
    "        print(\"City not found: Skipping...\")\n",
    "        city_name.pop()\n",
    "        pass\n",
    "        \n",
    "print(\"-----------------------\")\n",
    "print(\"Data Retrieval Complete\")\n",
    "print(\"-----------------------\")\n"
   ]
  },
  {
   "cell_type": "markdown",
   "metadata": {},
   "source": [
    "### Convert Raw Data to DataFrame\n",
    "* Export the city data into a .csv.\n",
    "* Display the DataFrame"
   ]
  },
  {
   "cell_type": "code",
   "execution_count": 5,
   "metadata": {},
   "outputs": [],
   "source": [
    "city_weather = {\"City\": city_name,\n",
    "                \"Latitude\": lat,\n",
    "                \"Longitude\" : lon,\n",
    "                \"Max Temp\" : max_temp,\n",
    "                \"Humidity\" : humidity,\n",
    "                \"Cloudiness\" : cloudiness,\n",
    "                \"Wind Speed\" : wind_speed,\n",
    "                \"Country\" : country,\n",
    "               \"Date\" : date}\n"
   ]
  },
  {
   "cell_type": "code",
   "execution_count": 6,
   "metadata": {},
   "outputs": [
    {
     "data": {
      "text/html": [
       "<div>\n",
       "<style scoped>\n",
       "    .dataframe tbody tr th:only-of-type {\n",
       "        vertical-align: middle;\n",
       "    }\n",
       "\n",
       "    .dataframe tbody tr th {\n",
       "        vertical-align: top;\n",
       "    }\n",
       "\n",
       "    .dataframe thead th {\n",
       "        text-align: right;\n",
       "    }\n",
       "</style>\n",
       "<table border=\"1\" class=\"dataframe\">\n",
       "  <thead>\n",
       "    <tr style=\"text-align: right;\">\n",
       "      <th></th>\n",
       "      <th>City</th>\n",
       "      <th>Latitude</th>\n",
       "      <th>Longitude</th>\n",
       "      <th>Max Temp</th>\n",
       "      <th>Humidity</th>\n",
       "      <th>Cloudiness</th>\n",
       "      <th>Wind Speed</th>\n",
       "      <th>Country</th>\n",
       "      <th>Date</th>\n",
       "    </tr>\n",
       "  </thead>\n",
       "  <tbody>\n",
       "    <tr>\n",
       "      <th>0</th>\n",
       "      <td>rikitea</td>\n",
       "      <td>-23.1203</td>\n",
       "      <td>-134.9692</td>\n",
       "      <td>74.16</td>\n",
       "      <td>76</td>\n",
       "      <td>2</td>\n",
       "      <td>6.62</td>\n",
       "      <td>PF</td>\n",
       "      <td>1658289087</td>\n",
       "    </tr>\n",
       "    <tr>\n",
       "      <th>1</th>\n",
       "      <td>avarua</td>\n",
       "      <td>-21.2078</td>\n",
       "      <td>-159.7750</td>\n",
       "      <td>75.25</td>\n",
       "      <td>69</td>\n",
       "      <td>40</td>\n",
       "      <td>6.91</td>\n",
       "      <td>CK</td>\n",
       "      <td>1658289087</td>\n",
       "    </tr>\n",
       "    <tr>\n",
       "      <th>2</th>\n",
       "      <td>victoria</td>\n",
       "      <td>22.2855</td>\n",
       "      <td>114.1577</td>\n",
       "      <td>91.96</td>\n",
       "      <td>70</td>\n",
       "      <td>100</td>\n",
       "      <td>11.99</td>\n",
       "      <td>HK</td>\n",
       "      <td>1658289022</td>\n",
       "    </tr>\n",
       "    <tr>\n",
       "      <th>3</th>\n",
       "      <td>urucara</td>\n",
       "      <td>-2.5364</td>\n",
       "      <td>-57.7600</td>\n",
       "      <td>74.10</td>\n",
       "      <td>91</td>\n",
       "      <td>88</td>\n",
       "      <td>2.89</td>\n",
       "      <td>BR</td>\n",
       "      <td>1658289088</td>\n",
       "    </tr>\n",
       "    <tr>\n",
       "      <th>4</th>\n",
       "      <td>bosconia</td>\n",
       "      <td>9.9689</td>\n",
       "      <td>-73.8836</td>\n",
       "      <td>78.31</td>\n",
       "      <td>80</td>\n",
       "      <td>76</td>\n",
       "      <td>2.46</td>\n",
       "      <td>CO</td>\n",
       "      <td>1658289088</td>\n",
       "    </tr>\n",
       "  </tbody>\n",
       "</table>\n",
       "</div>"
      ],
      "text/plain": [
       "       City  Latitude  Longitude  Max Temp  Humidity  Cloudiness  Wind Speed  \\\n",
       "0   rikitea  -23.1203  -134.9692     74.16        76           2        6.62   \n",
       "1    avarua  -21.2078  -159.7750     75.25        69          40        6.91   \n",
       "2  victoria   22.2855   114.1577     91.96        70         100       11.99   \n",
       "3   urucara   -2.5364   -57.7600     74.10        91          88        2.89   \n",
       "4  bosconia    9.9689   -73.8836     78.31        80          76        2.46   \n",
       "\n",
       "  Country        Date  \n",
       "0      PF  1658289087  \n",
       "1      CK  1658289087  \n",
       "2      HK  1658289022  \n",
       "3      BR  1658289088  \n",
       "4      CO  1658289088  "
      ]
     },
     "execution_count": 6,
     "metadata": {},
     "output_type": "execute_result"
    }
   ],
   "source": [
    "city_df = pd.DataFrame(city_weather)\n",
    "city_df.to_csv(\"..\\Resources\\WeatherData.csv\",encoding=\"utf-8\",index=False)\n",
    "city_df.head()"
   ]
  },
  {
   "cell_type": "code",
   "execution_count": 7,
   "metadata": {},
   "outputs": [
    {
     "data": {
      "text/html": [
       "<div>\n",
       "<style scoped>\n",
       "    .dataframe tbody tr th:only-of-type {\n",
       "        vertical-align: middle;\n",
       "    }\n",
       "\n",
       "    .dataframe tbody tr th {\n",
       "        vertical-align: top;\n",
       "    }\n",
       "\n",
       "    .dataframe thead th {\n",
       "        text-align: right;\n",
       "    }\n",
       "</style>\n",
       "<table border=\"1\" class=\"dataframe\">\n",
       "  <thead>\n",
       "    <tr style=\"text-align: right;\">\n",
       "      <th></th>\n",
       "      <th>Latitude</th>\n",
       "      <th>Longitude</th>\n",
       "      <th>Max Temp</th>\n",
       "      <th>Humidity</th>\n",
       "      <th>Cloudiness</th>\n",
       "      <th>Wind Speed</th>\n",
       "      <th>Date</th>\n",
       "    </tr>\n",
       "  </thead>\n",
       "  <tbody>\n",
       "    <tr>\n",
       "      <th>count</th>\n",
       "      <td>587.000000</td>\n",
       "      <td>587.000000</td>\n",
       "      <td>587.000000</td>\n",
       "      <td>587.000000</td>\n",
       "      <td>587.000000</td>\n",
       "      <td>587.000000</td>\n",
       "      <td>5.870000e+02</td>\n",
       "    </tr>\n",
       "    <tr>\n",
       "      <th>mean</th>\n",
       "      <td>18.696828</td>\n",
       "      <td>22.475233</td>\n",
       "      <td>69.399608</td>\n",
       "      <td>71.979557</td>\n",
       "      <td>54.127768</td>\n",
       "      <td>8.155980</td>\n",
       "      <td>1.658289e+09</td>\n",
       "    </tr>\n",
       "    <tr>\n",
       "      <th>std</th>\n",
       "      <td>33.033657</td>\n",
       "      <td>88.665466</td>\n",
       "      <td>14.079472</td>\n",
       "      <td>19.688866</td>\n",
       "      <td>39.620586</td>\n",
       "      <td>5.716527</td>\n",
       "      <td>8.619781e+01</td>\n",
       "    </tr>\n",
       "    <tr>\n",
       "      <th>min</th>\n",
       "      <td>-54.800000</td>\n",
       "      <td>-179.166700</td>\n",
       "      <td>32.270000</td>\n",
       "      <td>12.000000</td>\n",
       "      <td>0.000000</td>\n",
       "      <td>0.000000</td>\n",
       "      <td>1.658289e+09</td>\n",
       "    </tr>\n",
       "    <tr>\n",
       "      <th>25%</th>\n",
       "      <td>-8.442950</td>\n",
       "      <td>-53.288150</td>\n",
       "      <td>59.000000</td>\n",
       "      <td>60.000000</td>\n",
       "      <td>9.500000</td>\n",
       "      <td>3.900000</td>\n",
       "      <td>1.658289e+09</td>\n",
       "    </tr>\n",
       "    <tr>\n",
       "      <th>50%</th>\n",
       "      <td>20.931000</td>\n",
       "      <td>29.069800</td>\n",
       "      <td>70.390000</td>\n",
       "      <td>76.000000</td>\n",
       "      <td>64.000000</td>\n",
       "      <td>6.910000</td>\n",
       "      <td>1.658289e+09</td>\n",
       "    </tr>\n",
       "    <tr>\n",
       "      <th>75%</th>\n",
       "      <td>47.819000</td>\n",
       "      <td>100.335400</td>\n",
       "      <td>80.650000</td>\n",
       "      <td>88.000000</td>\n",
       "      <td>96.500000</td>\n",
       "      <td>11.010000</td>\n",
       "      <td>1.658289e+09</td>\n",
       "    </tr>\n",
       "    <tr>\n",
       "      <th>max</th>\n",
       "      <td>78.218600</td>\n",
       "      <td>179.316700</td>\n",
       "      <td>107.600000</td>\n",
       "      <td>100.000000</td>\n",
       "      <td>100.000000</td>\n",
       "      <td>54.090000</td>\n",
       "      <td>1.658289e+09</td>\n",
       "    </tr>\n",
       "  </tbody>\n",
       "</table>\n",
       "</div>"
      ],
      "text/plain": [
       "         Latitude   Longitude    Max Temp    Humidity  Cloudiness  Wind Speed  \\\n",
       "count  587.000000  587.000000  587.000000  587.000000  587.000000  587.000000   \n",
       "mean    18.696828   22.475233   69.399608   71.979557   54.127768    8.155980   \n",
       "std     33.033657   88.665466   14.079472   19.688866   39.620586    5.716527   \n",
       "min    -54.800000 -179.166700   32.270000   12.000000    0.000000    0.000000   \n",
       "25%     -8.442950  -53.288150   59.000000   60.000000    9.500000    3.900000   \n",
       "50%     20.931000   29.069800   70.390000   76.000000   64.000000    6.910000   \n",
       "75%     47.819000  100.335400   80.650000   88.000000   96.500000   11.010000   \n",
       "max     78.218600  179.316700  107.600000  100.000000  100.000000   54.090000   \n",
       "\n",
       "               Date  \n",
       "count  5.870000e+02  \n",
       "mean   1.658289e+09  \n",
       "std    8.619781e+01  \n",
       "min    1.658289e+09  \n",
       "25%    1.658289e+09  \n",
       "50%    1.658289e+09  \n",
       "75%    1.658289e+09  \n",
       "max    1.658289e+09  "
      ]
     },
     "execution_count": 7,
     "metadata": {},
     "output_type": "execute_result"
    }
   ],
   "source": [
    "city_df.describe()"
   ]
  },
  {
   "cell_type": "code",
   "execution_count": 8,
   "metadata": {},
   "outputs": [
    {
     "data": {
      "text/plain": [
       "City          587\n",
       "Latitude      587\n",
       "Longitude     587\n",
       "Max Temp      587\n",
       "Humidity      587\n",
       "Cloudiness    587\n",
       "Wind Speed    587\n",
       "Country       587\n",
       "Date          587\n",
       "dtype: int64"
      ]
     },
     "execution_count": 8,
     "metadata": {},
     "output_type": "execute_result"
    }
   ],
   "source": [
    "city_df.count()"
   ]
  },
  {
   "cell_type": "markdown",
   "metadata": {},
   "source": [
    "## Inspect the data and remove the cities where the humidity > 100%.\n",
    "----\n",
    "Skip this step if there are no cities that have humidity > 100%. "
   ]
  },
  {
   "cell_type": "code",
   "execution_count": 9,
   "metadata": {},
   "outputs": [
    {
     "data": {
      "text/html": [
       "<div>\n",
       "<style scoped>\n",
       "    .dataframe tbody tr th:only-of-type {\n",
       "        vertical-align: middle;\n",
       "    }\n",
       "\n",
       "    .dataframe tbody tr th {\n",
       "        vertical-align: top;\n",
       "    }\n",
       "\n",
       "    .dataframe thead th {\n",
       "        text-align: right;\n",
       "    }\n",
       "</style>\n",
       "<table border=\"1\" class=\"dataframe\">\n",
       "  <thead>\n",
       "    <tr style=\"text-align: right;\">\n",
       "      <th></th>\n",
       "      <th>City</th>\n",
       "      <th>Latitude</th>\n",
       "      <th>Longitude</th>\n",
       "      <th>Max Temp</th>\n",
       "      <th>Humidity</th>\n",
       "      <th>Cloudiness</th>\n",
       "      <th>Wind Speed</th>\n",
       "      <th>Country</th>\n",
       "      <th>Date</th>\n",
       "    </tr>\n",
       "  </thead>\n",
       "  <tbody>\n",
       "  </tbody>\n",
       "</table>\n",
       "</div>"
      ],
      "text/plain": [
       "Empty DataFrame\n",
       "Columns: [City, Latitude, Longitude, Max Temp, Humidity, Cloudiness, Wind Speed, Country, Date]\n",
       "Index: []"
      ]
     },
     "execution_count": 9,
     "metadata": {},
     "output_type": "execute_result"
    }
   ],
   "source": [
    "#  Get the indices of cities that have humidity over 100%.\n",
    "humidity_over_100 = city_df[(city_df[\"Humidity\"] > 100)]\n",
    "humidity_over_100\n"
   ]
  },
  {
   "cell_type": "code",
   "execution_count": 10,
   "metadata": {},
   "outputs": [
    {
     "data": {
      "text/plain": [
       "Int64Index([], dtype='int64')"
      ]
     },
     "execution_count": 10,
     "metadata": {},
     "output_type": "execute_result"
    }
   ],
   "source": [
    "humidity_over_100.index"
   ]
  },
  {
   "cell_type": "code",
   "execution_count": 11,
   "metadata": {},
   "outputs": [
    {
     "data": {
      "text/html": [
       "<div>\n",
       "<style scoped>\n",
       "    .dataframe tbody tr th:only-of-type {\n",
       "        vertical-align: middle;\n",
       "    }\n",
       "\n",
       "    .dataframe tbody tr th {\n",
       "        vertical-align: top;\n",
       "    }\n",
       "\n",
       "    .dataframe thead th {\n",
       "        text-align: right;\n",
       "    }\n",
       "</style>\n",
       "<table border=\"1\" class=\"dataframe\">\n",
       "  <thead>\n",
       "    <tr style=\"text-align: right;\">\n",
       "      <th></th>\n",
       "      <th>City</th>\n",
       "      <th>Latitude</th>\n",
       "      <th>Longitude</th>\n",
       "      <th>Max Temp</th>\n",
       "      <th>Humidity</th>\n",
       "      <th>Cloudiness</th>\n",
       "      <th>Wind Speed</th>\n",
       "      <th>Country</th>\n",
       "      <th>Date</th>\n",
       "    </tr>\n",
       "  </thead>\n",
       "  <tbody>\n",
       "    <tr>\n",
       "      <th>0</th>\n",
       "      <td>rikitea</td>\n",
       "      <td>-23.1203</td>\n",
       "      <td>-134.9692</td>\n",
       "      <td>74.16</td>\n",
       "      <td>76</td>\n",
       "      <td>2</td>\n",
       "      <td>6.62</td>\n",
       "      <td>PF</td>\n",
       "      <td>1658289087</td>\n",
       "    </tr>\n",
       "    <tr>\n",
       "      <th>1</th>\n",
       "      <td>avarua</td>\n",
       "      <td>-21.2078</td>\n",
       "      <td>-159.7750</td>\n",
       "      <td>75.25</td>\n",
       "      <td>69</td>\n",
       "      <td>40</td>\n",
       "      <td>6.91</td>\n",
       "      <td>CK</td>\n",
       "      <td>1658289087</td>\n",
       "    </tr>\n",
       "    <tr>\n",
       "      <th>2</th>\n",
       "      <td>victoria</td>\n",
       "      <td>22.2855</td>\n",
       "      <td>114.1577</td>\n",
       "      <td>91.96</td>\n",
       "      <td>70</td>\n",
       "      <td>100</td>\n",
       "      <td>11.99</td>\n",
       "      <td>HK</td>\n",
       "      <td>1658289022</td>\n",
       "    </tr>\n",
       "    <tr>\n",
       "      <th>3</th>\n",
       "      <td>urucara</td>\n",
       "      <td>-2.5364</td>\n",
       "      <td>-57.7600</td>\n",
       "      <td>74.10</td>\n",
       "      <td>91</td>\n",
       "      <td>88</td>\n",
       "      <td>2.89</td>\n",
       "      <td>BR</td>\n",
       "      <td>1658289088</td>\n",
       "    </tr>\n",
       "    <tr>\n",
       "      <th>4</th>\n",
       "      <td>bosconia</td>\n",
       "      <td>9.9689</td>\n",
       "      <td>-73.8836</td>\n",
       "      <td>78.31</td>\n",
       "      <td>80</td>\n",
       "      <td>76</td>\n",
       "      <td>2.46</td>\n",
       "      <td>CO</td>\n",
       "      <td>1658289088</td>\n",
       "    </tr>\n",
       "    <tr>\n",
       "      <th>...</th>\n",
       "      <td>...</td>\n",
       "      <td>...</td>\n",
       "      <td>...</td>\n",
       "      <td>...</td>\n",
       "      <td>...</td>\n",
       "      <td>...</td>\n",
       "      <td>...</td>\n",
       "      <td>...</td>\n",
       "      <td>...</td>\n",
       "    </tr>\n",
       "    <tr>\n",
       "      <th>582</th>\n",
       "      <td>kizilskoye</td>\n",
       "      <td>52.7255</td>\n",
       "      <td>58.8937</td>\n",
       "      <td>66.25</td>\n",
       "      <td>67</td>\n",
       "      <td>95</td>\n",
       "      <td>12.01</td>\n",
       "      <td>RU</td>\n",
       "      <td>1658289272</td>\n",
       "    </tr>\n",
       "    <tr>\n",
       "      <th>583</th>\n",
       "      <td>sao joao da barra</td>\n",
       "      <td>-21.6403</td>\n",
       "      <td>-41.0511</td>\n",
       "      <td>69.67</td>\n",
       "      <td>92</td>\n",
       "      <td>40</td>\n",
       "      <td>8.10</td>\n",
       "      <td>BR</td>\n",
       "      <td>1658289171</td>\n",
       "    </tr>\n",
       "    <tr>\n",
       "      <th>584</th>\n",
       "      <td>migori</td>\n",
       "      <td>-1.0634</td>\n",
       "      <td>34.4731</td>\n",
       "      <td>56.80</td>\n",
       "      <td>78</td>\n",
       "      <td>65</td>\n",
       "      <td>7.05</td>\n",
       "      <td>KE</td>\n",
       "      <td>1658289272</td>\n",
       "    </tr>\n",
       "    <tr>\n",
       "      <th>585</th>\n",
       "      <td>nizhniy chir</td>\n",
       "      <td>48.3597</td>\n",
       "      <td>43.0865</td>\n",
       "      <td>68.32</td>\n",
       "      <td>46</td>\n",
       "      <td>1</td>\n",
       "      <td>5.77</td>\n",
       "      <td>RU</td>\n",
       "      <td>1658289272</td>\n",
       "    </tr>\n",
       "    <tr>\n",
       "      <th>586</th>\n",
       "      <td>petropavlovka</td>\n",
       "      <td>50.6114</td>\n",
       "      <td>105.3196</td>\n",
       "      <td>69.48</td>\n",
       "      <td>48</td>\n",
       "      <td>32</td>\n",
       "      <td>2.19</td>\n",
       "      <td>RU</td>\n",
       "      <td>1658289274</td>\n",
       "    </tr>\n",
       "  </tbody>\n",
       "</table>\n",
       "<p>587 rows × 9 columns</p>\n",
       "</div>"
      ],
      "text/plain": [
       "                  City  Latitude  Longitude  Max Temp  Humidity  Cloudiness  \\\n",
       "0              rikitea  -23.1203  -134.9692     74.16        76           2   \n",
       "1               avarua  -21.2078  -159.7750     75.25        69          40   \n",
       "2             victoria   22.2855   114.1577     91.96        70         100   \n",
       "3              urucara   -2.5364   -57.7600     74.10        91          88   \n",
       "4             bosconia    9.9689   -73.8836     78.31        80          76   \n",
       "..                 ...       ...        ...       ...       ...         ...   \n",
       "582         kizilskoye   52.7255    58.8937     66.25        67          95   \n",
       "583  sao joao da barra  -21.6403   -41.0511     69.67        92          40   \n",
       "584             migori   -1.0634    34.4731     56.80        78          65   \n",
       "585       nizhniy chir   48.3597    43.0865     68.32        46           1   \n",
       "586      petropavlovka   50.6114   105.3196     69.48        48          32   \n",
       "\n",
       "     Wind Speed Country        Date  \n",
       "0          6.62      PF  1658289087  \n",
       "1          6.91      CK  1658289087  \n",
       "2         11.99      HK  1658289022  \n",
       "3          2.89      BR  1658289088  \n",
       "4          2.46      CO  1658289088  \n",
       "..          ...     ...         ...  \n",
       "582       12.01      RU  1658289272  \n",
       "583        8.10      BR  1658289171  \n",
       "584        7.05      KE  1658289272  \n",
       "585        5.77      RU  1658289272  \n",
       "586        2.19      RU  1658289274  \n",
       "\n",
       "[587 rows x 9 columns]"
      ]
     },
     "execution_count": 11,
     "metadata": {},
     "output_type": "execute_result"
    }
   ],
   "source": [
    "# Make a new DataFrame equal to the city data to drop all humidity outliers by index.\n",
    "# Passing \"inplace=False\" will make a copy of the city_data DataFrame, which we call \"clean_city_data\".\n",
    "\n",
    "clean_city_data = pd.concat([city_df,humidity_over_100], axis=0,ignore_index=True).drop_duplicates(keep=False,ignore_index=True)\n",
    "clean_city_data"
   ]
  },
  {
   "cell_type": "markdown",
   "metadata": {},
   "source": [
    "## Plotting the Data\n",
    "* Use proper labeling of the plots using plot titles (including date of analysis) and axes labels.\n",
    "* Save the plotted figures as .pngs."
   ]
  },
  {
   "cell_type": "markdown",
   "metadata": {},
   "source": [
    "# Latitude vs. Temperature Plot"
   ]
  },
  {
   "cell_type": "code",
   "execution_count": 12,
   "metadata": {
    "scrolled": true
   },
   "outputs": [
    {
     "data": {
      "image/png": "[encoded data removed]",
      "text/plain": [
       "<Figure size 432x288 with 1 Axes>"
      ]
     },
     "metadata": {
      "needs_background": "light"
     },
     "output_type": "display_data"
    }
   ],
   "source": [
    "plt.scatter(clean_city_data[\"Latitude\"],clean_city_data[\"Max Temp\"],edgecolor=\"black\",marker=\"o\", label =\"Cities\")\n",
    "plt.title(\"City Latitude vs. Max Temperature (%s)\" % time.strftime(\"%x\"))\n",
    "plt.xlabel(\"Latitude\")\n",
    "plt.ylabel(\"Maximum Temperature (F)\")\n",
    "plt.grid(True)\n",
    "plt.savefig(\"Images/Temperature.png\")"
   ]
  },
  {
   "cell_type": "markdown",
   "metadata": {},
   "source": [
    "The Latitude vs Temperature plot shown above includes data from all the cities attains its maximum around 20-degress latitude. The latitude values below and above that latitude shows a linear relationship too. "
   ]
  },
  {
   "cell_type": "markdown",
   "metadata": {},
   "source": [
    "## Latitude vs. Humidity Plot"
   ]
  },
  {
   "cell_type": "code",
   "execution_count": 13,
   "metadata": {},
   "outputs": [
    {
     "data": {
      "image/png": "[encoded data removed]",
      "text/plain": [
       "<Figure size 432x288 with 1 Axes>"
      ]
     },
     "metadata": {
      "needs_background": "light"
     },
     "output_type": "display_data"
    }
   ],
   "source": [
    "plt.scatter(clean_city_data[\"Latitude\"],clean_city_data[\"Humidity\"],edgecolor=\"black\",marker=\"o\", label =\"Cities\")\n",
    "plt.title(\"City Latitude vs. Humidity (%s)\" % time.strftime(\"%x\"))\n",
    "plt.xlabel(\"Latitude\")\n",
    "plt.ylabel(\"Humidity(%)\")\n",
    "plt.grid(True)\n",
    "plt.savefig(\"Images/Humidity.png\")"
   ]
  },
  {
   "cell_type": "markdown",
   "metadata": {},
   "source": [
    "The Latitude Vs. Humidity plot shows that that the distribution of data points are relatively spread out. There is more clustering as the Humidity % crosses 40."
   ]
  },
  {
   "cell_type": "markdown",
   "metadata": {},
   "source": [
    "## Latitude vs. Cloudiness Plot"
   ]
  },
  {
   "cell_type": "markdown",
   "metadata": {},
   "source": []
  },
  {
   "cell_type": "code",
   "execution_count": 14,
   "metadata": {},
   "outputs": [
    {
     "data": {
      "image/png": "[encoded data removed]",
      "text/plain": [
       "<Figure size 432x288 with 1 Axes>"
      ]
     },
     "metadata": {
      "needs_background": "light"
     },
     "output_type": "display_data"
    }
   ],
   "source": [
    "plt.scatter(clean_city_data[\"Latitude\"],clean_city_data[\"Cloudiness\"],edgecolor=\"black\",marker=\"o\", label =\"Cities\")\n",
    "plt.title(\"City Latitude vs. Cloudiness (%s)\" % time.strftime(\"%x\"))\n",
    "plt.xlabel(\"Latitude\")\n",
    "plt.ylabel(\"Cloudiness\")\n",
    "plt.grid(True)\n",
    "plt.savefig(\"Images/Cloudiness.png\")"
   ]
  },
  {
   "cell_type": "markdown",
   "metadata": {},
   "source": [
    "The Latitude Vs. Cloudiness plot doesn't seem to show a relationship between the Latitude and Cloudiness. There is a lot of clusters in 0 and between 90 to 100. It is possible that these may be categorised from some sources but doesn't suggest continuous measurement."
   ]
  },
  {
   "cell_type": "markdown",
   "metadata": {},
   "source": [
    "## Latitude vs. Wind Speed Plot"
   ]
  },
  {
   "cell_type": "code",
   "execution_count": 15,
   "metadata": {},
   "outputs": [
    {
     "data": {
      "image/png": "[encoded data removed]",
      "text/plain": [
       "<Figure size 432x288 with 1 Axes>"
      ]
     },
     "metadata": {
      "needs_background": "light"
     },
     "output_type": "display_data"
    }
   ],
   "source": [
    "plt.scatter(clean_city_data[\"Latitude\"],clean_city_data[\"Wind Speed\"],edgecolor=\"black\",marker=\"o\", label =\"Cities\")\n",
    "plt.title(\"City Latitude vs. Wind Speed (%s)\" % time.strftime(\"%x\"))\n",
    "plt.xlabel(\"Latitude\")\n",
    "plt.ylabel(\"Wind Speed(mph)\")\n",
    "plt.grid(True)\n",
    "plt.savefig(\"Images/Wind_Speed.png\")"
   ]
  },
  {
   "cell_type": "markdown",
   "metadata": {},
   "source": [
    "The Latitude Vs Wind Speed Plot doesn't show any relation between the latitude and wind speed but we can conlude that majority of the values and below 15mph."
   ]
  },
  {
   "cell_type": "markdown",
   "metadata": {},
   "source": [
    "## Linear Regression"
   ]
  },
  {
   "cell_type": "code",
   "execution_count": 16,
   "metadata": {},
   "outputs": [],
   "source": [
    "def linear_regression(x_value,y_value,locx,locy,y_label):\n",
    "\n",
    "    (slope, intercept, rvalue, pvalue, stderr) = linregress(x_value,y_value)\n",
    "    \n",
    "    regress = x_value * slope + intercept\n",
    "    line_eq = \"y = \" + str(round(slope,2)) + \"x + \" + str(round(intercept,2))\n",
    "    \n",
    "    plt.scatter(x_value, y_value)\n",
    "    plt.plot(x_value,regress,\"r-\")\n",
    "    plt.annotate(line_eq,(locx,locy), fontsize =12, color =\"red\")\n",
    "    plt.xlabel(\"Latitude\")\n",
    "    plt.ylabel(f\"{y_label}\")\n",
    "    plt.grid()\n",
    "    print(f\"The r-value is:{rvalue}\")\n",
    "    "
   ]
  },
  {
   "cell_type": "code",
   "execution_count": 17,
   "metadata": {},
   "outputs": [],
   "source": [
    "northern_df = clean_city_data.loc[clean_city_data[\"Latitude\"] > 0]\n",
    "southern_df = clean_city_data.loc[clean_city_data[\"Latitude\"] < 0]"
   ]
  },
  {
   "cell_type": "markdown",
   "metadata": {},
   "source": [
    "####  Northern Hemisphere - Max Temp vs. Latitude Linear Regression"
   ]
  },
  {
   "cell_type": "code",
   "execution_count": 18,
   "metadata": {},
   "outputs": [
    {
     "name": "stdout",
     "output_type": "stream",
     "text": [
      "The r-value is:-0.6584573950520403\n"
     ]
    },
    {
     "data": {
      "image/png": "[encoded data removed]",
      "text/plain": [
       "<Figure size 432x288 with 1 Axes>"
      ]
     },
     "metadata": {
      "needs_background": "light"
     },
     "output_type": "display_data"
    }
   ],
   "source": [
    "x_value = northern_df[\"Latitude\"]\n",
    "y_value = northern_df[\"Max Temp\"]\n",
    "\n",
    "locx = 0\n",
    "locy = 35\n",
    "\n",
    "y_label = \"Max Temp\"\n",
    "linear_regression(x_value,y_value,locx,locy,y_label)\n"
   ]
  },
  {
   "cell_type": "markdown",
   "metadata": {},
   "source": [
    "####  Southern Hemisphere - Max Temp vs. Latitude Linear Regression"
   ]
  },
  {
   "cell_type": "code",
   "execution_count": 19,
   "metadata": {},
   "outputs": [
    {
     "name": "stdout",
     "output_type": "stream",
     "text": [
      "The r-value is:0.7348075844325834\n"
     ]
    },
    {
     "data": {
      "image/png": "[encoded data removed]",
      "text/plain": [
       "<Figure size 432x288 with 1 Axes>"
      ]
     },
     "metadata": {
      "needs_background": "light"
     },
     "output_type": "display_data"
    }
   ],
   "source": [
    "x_value = southern_df[\"Latitude\"]\n",
    "y_value = southern_df[\"Max Temp\"]\n",
    "\n",
    "locx = -55\n",
    "locy = 80\n",
    "\n",
    "y_label = \"Max Temp\"\n",
    "linear_regression(x_value,y_value,locx,locy,y_label)"
   ]
  },
  {
   "cell_type": "markdown",
   "metadata": {},
   "source": [
    "####  Northern Hemisphere - Humidity (%) vs. Latitude Linear Regression"
   ]
  },
  {
   "cell_type": "code",
   "execution_count": 20,
   "metadata": {},
   "outputs": [
    {
     "name": "stdout",
     "output_type": "stream",
     "text": [
      "The r-value is:-0.017277372843748917\n"
     ]
    },
    {
     "data": {
      "image/png": "[encoded data removed]",
      "text/plain": [
       "<Figure size 432x288 with 1 Axes>"
      ]
     },
     "metadata": {
      "needs_background": "light"
     },
     "output_type": "display_data"
    }
   ],
   "source": [
    "x_value = northern_df[\"Latitude\"]\n",
    "y_value = northern_df[\"Humidity\"]\n",
    "\n",
    "locx = 50\n",
    "locy = 5\n",
    "\n",
    "y_label = \"Humidity\"\n",
    "linear_regression(x_value,y_value,locx,locy,y_label)"
   ]
  },
  {
   "cell_type": "markdown",
   "metadata": {},
   "source": [
    "####  Southern Hemisphere - Humidity (%) vs. Latitude Linear Regression"
   ]
  },
  {
   "cell_type": "code",
   "execution_count": 21,
   "metadata": {},
   "outputs": [
    {
     "name": "stdout",
     "output_type": "stream",
     "text": [
      "The r-value is:0.048422401751102045\n"
     ]
    },
    {
     "data": {
      "image/png": "[encoded data removed]",
      "text/plain": [
       "<Figure size 432x288 with 1 Axes>"
      ]
     },
     "metadata": {
      "needs_background": "light"
     },
     "output_type": "display_data"
    }
   ],
   "source": [
    "x_value = southern_df[\"Latitude\"]\n",
    "y_value = southern_df[\"Humidity\"]\n",
    "\n",
    "locx = -55\n",
    "locy = 40\n",
    "\n",
    "y_label = \"Humidity\"\n",
    "linear_regression(x_value,y_value,locx,locy,y_label)"
   ]
  },
  {
   "cell_type": "markdown",
   "metadata": {},
   "source": [
    "####  Northern Hemisphere - Cloudiness (%) vs. Latitude Linear Regression"
   ]
  },
  {
   "cell_type": "code",
   "execution_count": 22,
   "metadata": {},
   "outputs": [
    {
     "name": "stdout",
     "output_type": "stream",
     "text": [
      "The r-value is:0.01575089117971124\n"
     ]
    },
    {
     "data": {
      "image/png": "[encoded data removed]",
      "text/plain": [
       "<Figure size 432x288 with 1 Axes>"
      ]
     },
     "metadata": {
      "needs_background": "light"
     },
     "output_type": "display_data"
    }
   ],
   "source": [
    "x_value = northern_df[\"Latitude\"]\n",
    "y_value = northern_df[\"Cloudiness\"]\n",
    "\n",
    "locx = 57\n",
    "locy = 12\n",
    "\n",
    "y_label = \"Cloudiness\"\n",
    "linear_regression(x_value,y_value,locx,locy,y_label)"
   ]
  },
  {
   "cell_type": "markdown",
   "metadata": {},
   "source": [
    "####  Southern Hemisphere - Cloudiness (%) vs. Latitude Linear Regression"
   ]
  },
  {
   "cell_type": "code",
   "execution_count": 23,
   "metadata": {},
   "outputs": [
    {
     "name": "stdout",
     "output_type": "stream",
     "text": [
      "The r-value is:0.05414698573788755\n"
     ]
    },
    {
     "data": {
      "image/png": "[encoded data removed]",
      "text/plain": [
       "<Figure size 432x288 with 1 Axes>"
      ]
     },
     "metadata": {
      "needs_background": "light"
     },
     "output_type": "display_data"
    }
   ],
   "source": [
    "x_value = southern_df[\"Latitude\"]\n",
    "y_value = southern_df[\"Cloudiness\"]\n",
    "\n",
    "locx = -56\n",
    "locy = 60\n",
    "\n",
    "y_label = \"Cloudiness\"\n",
    "linear_regression(x_value,y_value,locx,locy,y_label)"
   ]
  },
  {
   "cell_type": "markdown",
   "metadata": {},
   "source": [
    "####  Northern Hemisphere - Wind Speed (mph) vs. Latitude Linear Regression"
   ]
  },
  {
   "cell_type": "code",
   "execution_count": 24,
   "metadata": {},
   "outputs": [
    {
     "name": "stdout",
     "output_type": "stream",
     "text": [
      "The r-value is:0.10233488110572116\n"
     ]
    },
    {
     "data": {
      "image/png": "[encoded data removed]",
      "text/plain": [
       "<Figure size 432x288 with 1 Axes>"
      ]
     },
     "metadata": {
      "needs_background": "light"
     },
     "output_type": "display_data"
    }
   ],
   "source": [
    "x_value = northern_df[\"Latitude\"]\n",
    "y_value = northern_df[\"Wind Speed\"]\n",
    "\n",
    "locx = 0\n",
    "locy = 28\n",
    "\n",
    "y_label = \"Wind Speed\"\n",
    "linear_regression(x_value,y_value,locx,locy,y_label)"
   ]
  },
  {
   "cell_type": "markdown",
   "metadata": {},
   "source": [
    "####  Southern Hemisphere - Wind Speed (mph) vs. Latitude Linear Regression"
   ]
  },
  {
   "cell_type": "code",
   "execution_count": 25,
   "metadata": {},
   "outputs": [
    {
     "name": "stdout",
     "output_type": "stream",
     "text": [
      "The r-value is:-0.2944731993854543\n"
     ]
    },
    {
     "data": {
      "image/png": "[encoded data removed]",
      "text/plain": [
       "<Figure size 432x288 with 1 Axes>"
      ]
     },
     "metadata": {
      "needs_background": "light"
     },
     "output_type": "display_data"
    }
   ],
   "source": [
    "x_value = southern_df[\"Latitude\"]\n",
    "y_value = southern_df[\"Wind Speed\"]\n",
    "\n",
    "locx = -50\n",
    "locy = 30\n",
    "\n",
    "y_label = \"Wind Speed\"\n",
    "linear_regression(x_value,y_value,locx,locy,y_label)"
   ]
  },
  {
   "cell_type": "code",
   "execution_count": null,
   "metadata": {},
   "outputs": [],
   "source": []
  }
 ],
 "metadata": {
  "anaconda-cloud": {},
  "kernel_info": {
   "name": "python3"
  },
  "kernelspec": {
   "display_name": "Python 3.9.12 ('base')",
   "language": "python",
   "name": "python3"
  },
  "language_info": {
   "codemirror_mode": {
    "name": "ipython",
    "version": 3
   },
   "file_extension": ".py",
   "mimetype": "text/x-python",
   "name": "python",
   "nbconvert_exporter": "python",
   "pygments_lexer": "ipython3",
   "version": "3.9.12"
  },
  "latex_envs": {
   "LaTeX_envs_menu_present": true,
   "autoclose": false,
   "autocomplete": true,
   "bibliofile": "biblio.bib",
   "cite_by": "apalike",
   "current_citInitial": 1,
   "eqLabelWithNumbers": true,
   "eqNumInitial": 1,
   "hotkeys": {
    "equation": "Ctrl-E",
    "itemize": "Ctrl-I"
   },
   "labels_anchors": false,
   "latex_user_defs": false,
   "report_style_numbering": false,
   "user_envs_cfg": false
  },
  "nteract": {
   "version": "0.12.3"
  },
  "vscode": {
   "interpreter": {
    "hash": "77cf9c26067d3e442e1e361c7d6b0426c395c21bc22dd0513e119bdb95df5c23"
   }
  }
 },
 "nbformat": 4,
 "nbformat_minor": 2
}
